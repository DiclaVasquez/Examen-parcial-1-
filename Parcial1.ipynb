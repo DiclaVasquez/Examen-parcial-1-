{
 "cells": [
  {
   "cell_type": "markdown",
   "id": "1810bc24-fb38-43be-9b13-4e0a17df5d7d",
   "metadata": {},
   "source": [
    "# Parcial 1\n",
    "# Desarrolle en Phyton  un programa el cual genere un código alfa numérico de 7 letras mayusculas y  7 números enteros, deben ser aleaotrios, el código debe ser intercalado empezando por letras.\n"
   ]
  },
  {
   "cell_type": "code",
   "execution_count": null,
   "id": "1a5eaabb-b61f-41d0-b073-f6eb7b852e33",
   "metadata": {},
   "outputs": [],
   "source": []
  },
  {
   "cell_type": "code",
   "execution_count": 21,
   "id": "dfa45d37-802f-4382-8e57-11bf2eb73560",
   "metadata": {},
   "outputs": [
    {
     "name": "stdout",
     "output_type": "stream",
     "text": [
      "09F5SBY\n",
      "NNSDD9V\n",
      "J8TMA3D\n",
      "66T8LAS\n",
      "LABNG1V\n",
      "DH7RRUE\n",
      "M7C69LL\n"
     ]
    }
   ],
   "source": [
    "import string\n",
    "import random\n",
    "numeros = 7\n",
    "letras= 7\n",
    "\n",
    "for x in range (numeros):\n",
    "    print(''.join(random.choice(string.ascii_uppercase + string.digits) for _ in range(letras))) \n",
    "    \n",
    "    \n",
    " \n"
   ]
  },
  {
   "cell_type": "code",
   "execution_count": 35,
   "id": "952cd046-b34e-4c73-9a1c-c2626ea3252f",
   "metadata": {},
   "outputs": [
    {
     "ename": "IndentationError",
     "evalue": "unexpected indent (Temp/ipykernel_22224/1349724197.py, line 10)",
     "output_type": "error",
     "traceback": [
      "\u001b[1;36m  File \u001b[1;32m\"C:\\Users\\DICLA~1.VAS\\AppData\\Local\\Temp/ipykernel_22224/1349724197.py\"\u001b[1;36m, line \u001b[1;32m10\u001b[0m\n\u001b[1;33m    def sumar_digitos_cadena(codigo):\u001b[0m\n\u001b[1;37m    ^\u001b[0m\n\u001b[1;31mIndentationError\u001b[0m\u001b[1;31m:\u001b[0m unexpected indent\n"
     ]
    }
   ],
   "source": [
    "import string\n",
    "import random\n",
    "numeros = 7\n",
    "letras= 7\n",
    "\n",
    "for x in range (numeros):\n",
    "    codigo = (''.join(random.choice(string.ascii_uppercase + string.digits) for _ in range(letras))) \n",
    "    print(codigo)\n",
    "    \n",
    "        def sumar_digitos_cadena(codigo):\n",
    "            suma = 0\n",
    "            for c in codigo:\n",
    "                if c.isdigit():\n",
    "                    suma += int(c)\n",
    "                    return suma\n",
    "    \n"
   ]
  },
  {
   "cell_type": "code",
   "execution_count": null,
   "id": "f7dec463-ef8b-43de-95b7-35de859624b5",
   "metadata": {},
   "outputs": [],
   "source": []
  }
 ],
 "metadata": {
  "kernelspec": {
   "display_name": "Python 3 (ipykernel)",
   "language": "python",
   "name": "python3"
  },
  "language_info": {
   "codemirror_mode": {
    "name": "ipython",
    "version": 3
   },
   "file_extension": ".py",
   "mimetype": "text/x-python",
   "name": "python",
   "nbconvert_exporter": "python",
   "pygments_lexer": "ipython3",
   "version": "3.9.7"
  }
 },
 "nbformat": 4,
 "nbformat_minor": 5
}
